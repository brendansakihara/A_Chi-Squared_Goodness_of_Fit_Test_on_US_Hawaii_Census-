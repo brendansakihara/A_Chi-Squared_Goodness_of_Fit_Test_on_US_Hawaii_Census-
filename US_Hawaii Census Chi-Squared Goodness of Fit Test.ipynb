{
 "cells": [
  {
   "cell_type": "markdown",
   "metadata": {},
   "source": [
    "# A Chi-Squared Test on US/Hawaii Age Distribution Data"
   ]
  },
  {
   "cell_type": "markdown",
   "metadata": {},
   "source": [
    "I will be doing a chi-squared goodness of fit test on United States and Hawaii age distribution data. I will be testing to see if the distribution of Hawaii's age population matches the expected distribution in the United States.\n",
    "\n",
    "Data: https://www.census.gov/data/tables/2023/demo/age-and-sex/2023-age-sex-composition.html \\\n",
    "https://data.census.gov/profile/Hawaii?g=040XX00US15"
   ]
  },
  {
   "cell_type": "code",
   "execution_count": 65,
   "metadata": {},
   "outputs": [],
   "source": [
    "import pandas as pd\n",
    "import numpy as np\n",
    "import math\n",
    "import scipy.stats as stats"
   ]
  },
  {
   "cell_type": "markdown",
   "metadata": {},
   "source": [
    "### Data Cleaning/Preparing"
   ]
  },
  {
   "cell_type": "code",
   "execution_count": 66,
   "metadata": {},
   "outputs": [
    {
     "data": {
      "text/html": [
       "<div>\n",
       "<style scoped>\n",
       "    .dataframe tbody tr th:only-of-type {\n",
       "        vertical-align: middle;\n",
       "    }\n",
       "\n",
       "    .dataframe tbody tr th {\n",
       "        vertical-align: top;\n",
       "    }\n",
       "\n",
       "    .dataframe thead th {\n",
       "        text-align: right;\n",
       "    }\n",
       "</style>\n",
       "<table border=\"1\" class=\"dataframe\">\n",
       "  <thead>\n",
       "    <tr style=\"text-align: right;\">\n",
       "      <th></th>\n",
       "      <th>Age</th>\n",
       "      <th>US_Count</th>\n",
       "      <th>HI_Count</th>\n",
       "    </tr>\n",
       "  </thead>\n",
       "  <tbody>\n",
       "    <tr>\n",
       "      <th>0</th>\n",
       "      <td>.Under 5 years</td>\n",
       "      <td>18473</td>\n",
       "      <td>84552</td>\n",
       "    </tr>\n",
       "    <tr>\n",
       "      <th>1</th>\n",
       "      <td>.5 to 9 years</td>\n",
       "      <td>19929</td>\n",
       "      <td>84983</td>\n",
       "    </tr>\n",
       "    <tr>\n",
       "      <th>2</th>\n",
       "      <td>.10 to 14 years</td>\n",
       "      <td>20698</td>\n",
       "      <td>87743</td>\n",
       "    </tr>\n",
       "    <tr>\n",
       "      <th>3</th>\n",
       "      <td>.15 to 19 years</td>\n",
       "      <td>21577</td>\n",
       "      <td>78904</td>\n",
       "    </tr>\n",
       "    <tr>\n",
       "      <th>4</th>\n",
       "      <td>.20 to 24 years</td>\n",
       "      <td>22281</td>\n",
       "      <td>91878</td>\n",
       "    </tr>\n",
       "  </tbody>\n",
       "</table>\n",
       "</div>"
      ],
      "text/plain": [
       "                  Age  US_Count  HI_Count\n",
       "0      .Under 5 years     18473     84552\n",
       "1       .5 to 9 years     19929     84983\n",
       "2     .10 to 14 years     20698     87743\n",
       "3     .15 to 19 years     21577     78904\n",
       "4     .20 to 24 years     22281     91878"
      ]
     },
     "execution_count": 66,
     "metadata": {},
     "output_type": "execute_result"
    }
   ],
   "source": [
    "df = pd.read_excel('pop_dist.xlsx')\n",
    "\n",
    "df.head()"
   ]
  },
  {
   "cell_type": "code",
   "execution_count": 67,
   "metadata": {},
   "outputs": [],
   "source": [
    "df['Age'] = df['Age'].str.replace('.','')\n",
    "\n",
    "df.set_index('Age', inplace = True)"
   ]
  },
  {
   "cell_type": "code",
   "execution_count": 68,
   "metadata": {},
   "outputs": [],
   "source": [
    "df_pop = df.copy()"
   ]
  },
  {
   "cell_type": "code",
   "execution_count": 69,
   "metadata": {},
   "outputs": [
    {
     "data": {
      "text/html": [
       "<div>\n",
       "<style scoped>\n",
       "    .dataframe tbody tr th:only-of-type {\n",
       "        vertical-align: middle;\n",
       "    }\n",
       "\n",
       "    .dataframe tbody tr th {\n",
       "        vertical-align: top;\n",
       "    }\n",
       "\n",
       "    .dataframe thead th {\n",
       "        text-align: right;\n",
       "    }\n",
       "</style>\n",
       "<table border=\"1\" class=\"dataframe\">\n",
       "  <thead>\n",
       "    <tr style=\"text-align: right;\">\n",
       "      <th></th>\n",
       "      <th>US_Count</th>\n",
       "    </tr>\n",
       "    <tr>\n",
       "      <th>Age</th>\n",
       "      <th></th>\n",
       "    </tr>\n",
       "  </thead>\n",
       "  <tbody>\n",
       "    <tr>\n",
       "      <th>Under 5 years</th>\n",
       "      <td>18473</td>\n",
       "    </tr>\n",
       "    <tr>\n",
       "      <th>5 to 9 years</th>\n",
       "      <td>19929</td>\n",
       "    </tr>\n",
       "    <tr>\n",
       "      <th>10 to 14 years</th>\n",
       "      <td>20698</td>\n",
       "    </tr>\n",
       "    <tr>\n",
       "      <th>15 to 19 years</th>\n",
       "      <td>21577</td>\n",
       "    </tr>\n",
       "    <tr>\n",
       "      <th>20 to 24 years</th>\n",
       "      <td>22281</td>\n",
       "    </tr>\n",
       "    <tr>\n",
       "      <th>25 to 29 years</th>\n",
       "      <td>21788</td>\n",
       "    </tr>\n",
       "    <tr>\n",
       "      <th>30 to 34 years</th>\n",
       "      <td>23126</td>\n",
       "    </tr>\n",
       "    <tr>\n",
       "      <th>35 to 39 years</th>\n",
       "      <td>22178</td>\n",
       "    </tr>\n",
       "    <tr>\n",
       "      <th>40 to 44 years</th>\n",
       "      <td>21309</td>\n",
       "    </tr>\n",
       "    <tr>\n",
       "      <th>45 to 49 years</th>\n",
       "      <td>19537</td>\n",
       "    </tr>\n",
       "    <tr>\n",
       "      <th>50 to 54 years</th>\n",
       "      <td>20465</td>\n",
       "    </tr>\n",
       "    <tr>\n",
       "      <th>55 to 59 years</th>\n",
       "      <td>20380</td>\n",
       "    </tr>\n",
       "    <tr>\n",
       "      <th>60 to 64 years</th>\n",
       "      <td>21007</td>\n",
       "    </tr>\n",
       "    <tr>\n",
       "      <th>65 to 69 years</th>\n",
       "      <td>18417</td>\n",
       "    </tr>\n",
       "    <tr>\n",
       "      <th>70 to 74 years</th>\n",
       "      <td>15599</td>\n",
       "    </tr>\n",
       "    <tr>\n",
       "      <th>75 to 79 years</th>\n",
       "      <td>10851</td>\n",
       "    </tr>\n",
       "    <tr>\n",
       "      <th>80 to 84 years</th>\n",
       "      <td>6970</td>\n",
       "    </tr>\n",
       "    <tr>\n",
       "      <th>85 years and over</th>\n",
       "      <td>6047</td>\n",
       "    </tr>\n",
       "  </tbody>\n",
       "</table>\n",
       "</div>"
      ],
      "text/plain": [
       "                      US_Count\n",
       "Age                           \n",
       "   Under 5 years         18473\n",
       "   5 to 9 years          19929\n",
       "   10 to 14 years        20698\n",
       "   15 to 19 years        21577\n",
       "   20 to 24 years        22281\n",
       "   25 to 29 years        21788\n",
       "   30 to 34 years        23126\n",
       "   35 to 39 years        22178\n",
       "   40 to 44 years        21309\n",
       "   45 to 49 years        19537\n",
       "   50 to 54 years        20465\n",
       "   55 to 59 years        20380\n",
       "   60 to 64 years        21007\n",
       "   65 to 69 years        18417\n",
       "   70 to 74 years        15599\n",
       "   75 to 79 years        10851\n",
       "   80 to 84 years         6970\n",
       "   85 years and over      6047"
      ]
     },
     "execution_count": 69,
     "metadata": {},
     "output_type": "execute_result"
    }
   ],
   "source": [
    "df_pop = df_pop[['US_Count']]\n",
    "df_pop"
   ]
  },
  {
   "cell_type": "code",
   "execution_count": 70,
   "metadata": {},
   "outputs": [],
   "source": [
    "# Counts were in the thousands so I normalized it to their actual counts\n",
    "df_pop['Count'] = df_pop['US_Count']*1000\n",
    "\n",
    "df_pop.drop(columns = 'US_Count', inplace = True)"
   ]
  },
  {
   "cell_type": "code",
   "execution_count": 71,
   "metadata": {},
   "outputs": [
    {
     "data": {
      "text/html": [
       "<div>\n",
       "<style scoped>\n",
       "    .dataframe tbody tr th:only-of-type {\n",
       "        vertical-align: middle;\n",
       "    }\n",
       "\n",
       "    .dataframe tbody tr th {\n",
       "        vertical-align: top;\n",
       "    }\n",
       "\n",
       "    .dataframe thead th {\n",
       "        text-align: right;\n",
       "    }\n",
       "</style>\n",
       "<table border=\"1\" class=\"dataframe\">\n",
       "  <thead>\n",
       "    <tr style=\"text-align: right;\">\n",
       "      <th></th>\n",
       "      <th>Count</th>\n",
       "    </tr>\n",
       "    <tr>\n",
       "      <th>Age</th>\n",
       "      <th></th>\n",
       "    </tr>\n",
       "  </thead>\n",
       "  <tbody>\n",
       "    <tr>\n",
       "      <th>Under 5 years</th>\n",
       "      <td>18473000</td>\n",
       "    </tr>\n",
       "    <tr>\n",
       "      <th>5 to 9 years</th>\n",
       "      <td>19929000</td>\n",
       "    </tr>\n",
       "    <tr>\n",
       "      <th>10 to 14 years</th>\n",
       "      <td>20698000</td>\n",
       "    </tr>\n",
       "    <tr>\n",
       "      <th>15 to 19 years</th>\n",
       "      <td>21577000</td>\n",
       "    </tr>\n",
       "    <tr>\n",
       "      <th>20 to 24 years</th>\n",
       "      <td>22281000</td>\n",
       "    </tr>\n",
       "    <tr>\n",
       "      <th>25 to 29 years</th>\n",
       "      <td>21788000</td>\n",
       "    </tr>\n",
       "    <tr>\n",
       "      <th>30 to 34 years</th>\n",
       "      <td>23126000</td>\n",
       "    </tr>\n",
       "    <tr>\n",
       "      <th>35 to 39 years</th>\n",
       "      <td>22178000</td>\n",
       "    </tr>\n",
       "    <tr>\n",
       "      <th>40 to 44 years</th>\n",
       "      <td>21309000</td>\n",
       "    </tr>\n",
       "    <tr>\n",
       "      <th>45 to 49 years</th>\n",
       "      <td>19537000</td>\n",
       "    </tr>\n",
       "    <tr>\n",
       "      <th>50 to 54 years</th>\n",
       "      <td>20465000</td>\n",
       "    </tr>\n",
       "    <tr>\n",
       "      <th>55 to 59 years</th>\n",
       "      <td>20380000</td>\n",
       "    </tr>\n",
       "    <tr>\n",
       "      <th>60 to 64 years</th>\n",
       "      <td>21007000</td>\n",
       "    </tr>\n",
       "    <tr>\n",
       "      <th>65 to 69 years</th>\n",
       "      <td>18417000</td>\n",
       "    </tr>\n",
       "    <tr>\n",
       "      <th>70 to 74 years</th>\n",
       "      <td>15599000</td>\n",
       "    </tr>\n",
       "    <tr>\n",
       "      <th>75 to 79 years</th>\n",
       "      <td>10851000</td>\n",
       "    </tr>\n",
       "    <tr>\n",
       "      <th>80 to 84 years</th>\n",
       "      <td>6970000</td>\n",
       "    </tr>\n",
       "    <tr>\n",
       "      <th>85 years and over</th>\n",
       "      <td>6047000</td>\n",
       "    </tr>\n",
       "  </tbody>\n",
       "</table>\n",
       "</div>"
      ],
      "text/plain": [
       "                         Count\n",
       "Age                           \n",
       "   Under 5 years      18473000\n",
       "   5 to 9 years       19929000\n",
       "   10 to 14 years     20698000\n",
       "   15 to 19 years     21577000\n",
       "   20 to 24 years     22281000\n",
       "   25 to 29 years     21788000\n",
       "   30 to 34 years     23126000\n",
       "   35 to 39 years     22178000\n",
       "   40 to 44 years     21309000\n",
       "   45 to 49 years     19537000\n",
       "   50 to 54 years     20465000\n",
       "   55 to 59 years     20380000\n",
       "   60 to 64 years     21007000\n",
       "   65 to 69 years     18417000\n",
       "   70 to 74 years     15599000\n",
       "   75 to 79 years     10851000\n",
       "   80 to 84 years      6970000\n",
       "   85 years and over   6047000"
      ]
     },
     "execution_count": 71,
     "metadata": {},
     "output_type": "execute_result"
    }
   ],
   "source": [
    "df_pop"
   ]
  },
  {
   "cell_type": "code",
   "execution_count": 72,
   "metadata": {},
   "outputs": [
    {
     "data": {
      "text/plain": [
       "330632000"
      ]
     },
     "execution_count": 72,
     "metadata": {},
     "output_type": "execute_result"
    }
   ],
   "source": [
    "df_pop['Count'].sum()"
   ]
  },
  {
   "cell_type": "code",
   "execution_count": 73,
   "metadata": {},
   "outputs": [
    {
     "data": {
      "text/html": [
       "<div>\n",
       "<style scoped>\n",
       "    .dataframe tbody tr th:only-of-type {\n",
       "        vertical-align: middle;\n",
       "    }\n",
       "\n",
       "    .dataframe tbody tr th {\n",
       "        vertical-align: top;\n",
       "    }\n",
       "\n",
       "    .dataframe thead th {\n",
       "        text-align: right;\n",
       "    }\n",
       "</style>\n",
       "<table border=\"1\" class=\"dataframe\">\n",
       "  <thead>\n",
       "    <tr style=\"text-align: right;\">\n",
       "      <th></th>\n",
       "      <th>US_Count</th>\n",
       "      <th>HI_Count</th>\n",
       "    </tr>\n",
       "    <tr>\n",
       "      <th>Age</th>\n",
       "      <th></th>\n",
       "      <th></th>\n",
       "    </tr>\n",
       "  </thead>\n",
       "  <tbody>\n",
       "    <tr>\n",
       "      <th>Under 5 years</th>\n",
       "      <td>18473</td>\n",
       "      <td>84552</td>\n",
       "    </tr>\n",
       "    <tr>\n",
       "      <th>5 to 9 years</th>\n",
       "      <td>19929</td>\n",
       "      <td>84983</td>\n",
       "    </tr>\n",
       "    <tr>\n",
       "      <th>10 to 14 years</th>\n",
       "      <td>20698</td>\n",
       "      <td>87743</td>\n",
       "    </tr>\n",
       "    <tr>\n",
       "      <th>15 to 19 years</th>\n",
       "      <td>21577</td>\n",
       "      <td>78904</td>\n",
       "    </tr>\n",
       "    <tr>\n",
       "      <th>20 to 24 years</th>\n",
       "      <td>22281</td>\n",
       "      <td>91878</td>\n",
       "    </tr>\n",
       "  </tbody>\n",
       "</table>\n",
       "</div>"
      ],
      "text/plain": [
       "                   US_Count  HI_Count\n",
       "Age                                  \n",
       "   Under 5 years      18473     84552\n",
       "   5 to 9 years       19929     84983\n",
       "   10 to 14 years     20698     87743\n",
       "   15 to 19 years     21577     78904\n",
       "   20 to 24 years     22281     91878"
      ]
     },
     "execution_count": 73,
     "metadata": {},
     "output_type": "execute_result"
    }
   ],
   "source": [
    "# Preparing sample data (Hawaii)\n",
    "\n",
    "df_samp = df.copy()\n",
    "\n",
    "df_samp.head()"
   ]
  },
  {
   "cell_type": "code",
   "execution_count": 74,
   "metadata": {},
   "outputs": [
    {
     "data": {
      "text/html": [
       "<div>\n",
       "<style scoped>\n",
       "    .dataframe tbody tr th:only-of-type {\n",
       "        vertical-align: middle;\n",
       "    }\n",
       "\n",
       "    .dataframe tbody tr th {\n",
       "        vertical-align: top;\n",
       "    }\n",
       "\n",
       "    .dataframe thead th {\n",
       "        text-align: right;\n",
       "    }\n",
       "</style>\n",
       "<table border=\"1\" class=\"dataframe\">\n",
       "  <thead>\n",
       "    <tr style=\"text-align: right;\">\n",
       "      <th></th>\n",
       "      <th>HI_Count</th>\n",
       "    </tr>\n",
       "    <tr>\n",
       "      <th>Age</th>\n",
       "      <th></th>\n",
       "    </tr>\n",
       "  </thead>\n",
       "  <tbody>\n",
       "    <tr>\n",
       "      <th>Under 5 years</th>\n",
       "      <td>84552</td>\n",
       "    </tr>\n",
       "    <tr>\n",
       "      <th>5 to 9 years</th>\n",
       "      <td>84983</td>\n",
       "    </tr>\n",
       "    <tr>\n",
       "      <th>10 to 14 years</th>\n",
       "      <td>87743</td>\n",
       "    </tr>\n",
       "    <tr>\n",
       "      <th>15 to 19 years</th>\n",
       "      <td>78904</td>\n",
       "    </tr>\n",
       "    <tr>\n",
       "      <th>20 to 24 years</th>\n",
       "      <td>91878</td>\n",
       "    </tr>\n",
       "  </tbody>\n",
       "</table>\n",
       "</div>"
      ],
      "text/plain": [
       "                   HI_Count\n",
       "Age                        \n",
       "   Under 5 years      84552\n",
       "   5 to 9 years       84983\n",
       "   10 to 14 years     87743\n",
       "   15 to 19 years     78904\n",
       "   20 to 24 years     91878"
      ]
     },
     "execution_count": 74,
     "metadata": {},
     "output_type": "execute_result"
    }
   ],
   "source": [
    "df_samp = df[['HI_Count']]\n",
    "\n",
    "df_samp.head()"
   ]
  },
  {
   "cell_type": "code",
   "execution_count": 75,
   "metadata": {},
   "outputs": [
    {
     "name": "stderr",
     "output_type": "stream",
     "text": [
      "C:\\Users\\Brendan\\AppData\\Local\\Temp\\ipykernel_9964\\522372534.py:1: SettingWithCopyWarning: \n",
      "A value is trying to be set on a copy of a slice from a DataFrame\n",
      "\n",
      "See the caveats in the documentation: https://pandas.pydata.org/pandas-docs/stable/user_guide/indexing.html#returning-a-view-versus-a-copy\n",
      "  df_samp.rename(columns = {'HI_Count': 'Count'}, inplace = True)\n"
     ]
    }
   ],
   "source": [
    "df_samp.rename(columns = {'HI_Count': 'Count'}, inplace = True)"
   ]
  },
  {
   "cell_type": "code",
   "execution_count": 76,
   "metadata": {},
   "outputs": [
    {
     "data": {
      "text/html": [
       "<div>\n",
       "<style scoped>\n",
       "    .dataframe tbody tr th:only-of-type {\n",
       "        vertical-align: middle;\n",
       "    }\n",
       "\n",
       "    .dataframe tbody tr th {\n",
       "        vertical-align: top;\n",
       "    }\n",
       "\n",
       "    .dataframe thead th {\n",
       "        text-align: right;\n",
       "    }\n",
       "</style>\n",
       "<table border=\"1\" class=\"dataframe\">\n",
       "  <thead>\n",
       "    <tr style=\"text-align: right;\">\n",
       "      <th></th>\n",
       "      <th>Count</th>\n",
       "    </tr>\n",
       "    <tr>\n",
       "      <th>Age</th>\n",
       "      <th></th>\n",
       "    </tr>\n",
       "  </thead>\n",
       "  <tbody>\n",
       "    <tr>\n",
       "      <th>Under 5 years</th>\n",
       "      <td>84552</td>\n",
       "    </tr>\n",
       "    <tr>\n",
       "      <th>5 to 9 years</th>\n",
       "      <td>84983</td>\n",
       "    </tr>\n",
       "    <tr>\n",
       "      <th>10 to 14 years</th>\n",
       "      <td>87743</td>\n",
       "    </tr>\n",
       "    <tr>\n",
       "      <th>15 to 19 years</th>\n",
       "      <td>78904</td>\n",
       "    </tr>\n",
       "    <tr>\n",
       "      <th>20 to 24 years</th>\n",
       "      <td>91878</td>\n",
       "    </tr>\n",
       "  </tbody>\n",
       "</table>\n",
       "</div>"
      ],
      "text/plain": [
       "                   Count\n",
       "Age                     \n",
       "   Under 5 years   84552\n",
       "   5 to 9 years    84983\n",
       "   10 to 14 years  87743\n",
       "   15 to 19 years  78904\n",
       "   20 to 24 years  91878"
      ]
     },
     "execution_count": 76,
     "metadata": {},
     "output_type": "execute_result"
    }
   ],
   "source": [
    "df_samp.head()"
   ]
  },
  {
   "cell_type": "code",
   "execution_count": 77,
   "metadata": {},
   "outputs": [
    {
     "data": {
      "text/plain": [
       "1450589"
      ]
     },
     "execution_count": 77,
     "metadata": {},
     "output_type": "execute_result"
    }
   ],
   "source": [
    "df_samp['Count'].sum()"
   ]
  },
  {
   "cell_type": "markdown",
   "metadata": {},
   "source": [
    "### Start Testing"
   ]
  },
  {
   "cell_type": "markdown",
   "metadata": {},
   "source": [
    "I will use a confidence level of 95%."
   ]
  },
  {
   "cell_type": "code",
   "execution_count": 78,
   "metadata": {},
   "outputs": [],
   "source": [
    "# Defining what is observed\n",
    "\n",
    "observed = df_samp"
   ]
  },
  {
   "cell_type": "code",
   "execution_count": 79,
   "metadata": {},
   "outputs": [],
   "source": [
    "# Getting the ratios of the population counts\n",
    "\n",
    "pop_ratios = df_pop/df_pop['Count'].sum()"
   ]
  },
  {
   "cell_type": "code",
   "execution_count": 80,
   "metadata": {},
   "outputs": [
    {
     "data": {
      "text/html": [
       "<div>\n",
       "<style scoped>\n",
       "    .dataframe tbody tr th:only-of-type {\n",
       "        vertical-align: middle;\n",
       "    }\n",
       "\n",
       "    .dataframe tbody tr th {\n",
       "        vertical-align: top;\n",
       "    }\n",
       "\n",
       "    .dataframe thead th {\n",
       "        text-align: right;\n",
       "    }\n",
       "</style>\n",
       "<table border=\"1\" class=\"dataframe\">\n",
       "  <thead>\n",
       "    <tr style=\"text-align: right;\">\n",
       "      <th></th>\n",
       "      <th>Count</th>\n",
       "    </tr>\n",
       "    <tr>\n",
       "      <th>Age</th>\n",
       "      <th></th>\n",
       "    </tr>\n",
       "  </thead>\n",
       "  <tbody>\n",
       "    <tr>\n",
       "      <th>Under 5 years</th>\n",
       "      <td>0.055872</td>\n",
       "    </tr>\n",
       "    <tr>\n",
       "      <th>5 to 9 years</th>\n",
       "      <td>0.060275</td>\n",
       "    </tr>\n",
       "    <tr>\n",
       "      <th>10 to 14 years</th>\n",
       "      <td>0.062601</td>\n",
       "    </tr>\n",
       "    <tr>\n",
       "      <th>15 to 19 years</th>\n",
       "      <td>0.065260</td>\n",
       "    </tr>\n",
       "    <tr>\n",
       "      <th>20 to 24 years</th>\n",
       "      <td>0.067389</td>\n",
       "    </tr>\n",
       "    <tr>\n",
       "      <th>25 to 29 years</th>\n",
       "      <td>0.065898</td>\n",
       "    </tr>\n",
       "    <tr>\n",
       "      <th>30 to 34 years</th>\n",
       "      <td>0.069945</td>\n",
       "    </tr>\n",
       "    <tr>\n",
       "      <th>35 to 39 years</th>\n",
       "      <td>0.067078</td>\n",
       "    </tr>\n",
       "    <tr>\n",
       "      <th>40 to 44 years</th>\n",
       "      <td>0.064449</td>\n",
       "    </tr>\n",
       "    <tr>\n",
       "      <th>45 to 49 years</th>\n",
       "      <td>0.059090</td>\n",
       "    </tr>\n",
       "    <tr>\n",
       "      <th>50 to 54 years</th>\n",
       "      <td>0.061897</td>\n",
       "    </tr>\n",
       "    <tr>\n",
       "      <th>55 to 59 years</th>\n",
       "      <td>0.061640</td>\n",
       "    </tr>\n",
       "    <tr>\n",
       "      <th>60 to 64 years</th>\n",
       "      <td>0.063536</td>\n",
       "    </tr>\n",
       "    <tr>\n",
       "      <th>65 to 69 years</th>\n",
       "      <td>0.055702</td>\n",
       "    </tr>\n",
       "    <tr>\n",
       "      <th>70 to 74 years</th>\n",
       "      <td>0.047179</td>\n",
       "    </tr>\n",
       "    <tr>\n",
       "      <th>75 to 79 years</th>\n",
       "      <td>0.032819</td>\n",
       "    </tr>\n",
       "    <tr>\n",
       "      <th>80 to 84 years</th>\n",
       "      <td>0.021081</td>\n",
       "    </tr>\n",
       "    <tr>\n",
       "      <th>85 years and over</th>\n",
       "      <td>0.018289</td>\n",
       "    </tr>\n",
       "  </tbody>\n",
       "</table>\n",
       "</div>"
      ],
      "text/plain": [
       "                         Count\n",
       "Age                           \n",
       "   Under 5 years      0.055872\n",
       "   5 to 9 years       0.060275\n",
       "   10 to 14 years     0.062601\n",
       "   15 to 19 years     0.065260\n",
       "   20 to 24 years     0.067389\n",
       "   25 to 29 years     0.065898\n",
       "   30 to 34 years     0.069945\n",
       "   35 to 39 years     0.067078\n",
       "   40 to 44 years     0.064449\n",
       "   45 to 49 years     0.059090\n",
       "   50 to 54 years     0.061897\n",
       "   55 to 59 years     0.061640\n",
       "   60 to 64 years     0.063536\n",
       "   65 to 69 years     0.055702\n",
       "   70 to 74 years     0.047179\n",
       "   75 to 79 years     0.032819\n",
       "   80 to 84 years     0.021081\n",
       "   85 years and over  0.018289"
      ]
     },
     "execution_count": 80,
     "metadata": {},
     "output_type": "execute_result"
    }
   ],
   "source": [
    "pop_ratios"
   ]
  },
  {
   "cell_type": "code",
   "execution_count": 81,
   "metadata": {},
   "outputs": [
    {
     "data": {
      "text/plain": [
       "Count    1.0\n",
       "dtype: float64"
      ]
     },
     "execution_count": 81,
     "metadata": {},
     "output_type": "execute_result"
    }
   ],
   "source": [
    "pop_ratios.sum()"
   ]
  },
  {
   "cell_type": "code",
   "execution_count": 82,
   "metadata": {},
   "outputs": [],
   "source": [
    "# Getting expected counts based on the sample counts\n",
    "\n",
    "expected = pop_ratios * (df_samp['Count'].sum())"
   ]
  },
  {
   "cell_type": "code",
   "execution_count": 83,
   "metadata": {},
   "outputs": [
    {
     "data": {
      "text/html": [
       "<div>\n",
       "<style scoped>\n",
       "    .dataframe tbody tr th:only-of-type {\n",
       "        vertical-align: middle;\n",
       "    }\n",
       "\n",
       "    .dataframe tbody tr th {\n",
       "        vertical-align: top;\n",
       "    }\n",
       "\n",
       "    .dataframe thead th {\n",
       "        text-align: right;\n",
       "    }\n",
       "</style>\n",
       "<table border=\"1\" class=\"dataframe\">\n",
       "  <thead>\n",
       "    <tr style=\"text-align: right;\">\n",
       "      <th></th>\n",
       "      <th>Count</th>\n",
       "    </tr>\n",
       "    <tr>\n",
       "      <th>Age</th>\n",
       "      <th></th>\n",
       "    </tr>\n",
       "  </thead>\n",
       "  <tbody>\n",
       "    <tr>\n",
       "      <th>Under 5 years</th>\n",
       "      <td>81046.996652</td>\n",
       "    </tr>\n",
       "    <tr>\n",
       "      <th>5 to 9 years</th>\n",
       "      <td>87434.937275</td>\n",
       "    </tr>\n",
       "    <tr>\n",
       "      <th>10 to 14 years</th>\n",
       "      <td>90808.787782</td>\n",
       "    </tr>\n",
       "    <tr>\n",
       "      <th>15 to 19 years</th>\n",
       "      <td>94665.243694</td>\n",
       "    </tr>\n",
       "    <tr>\n",
       "      <th>20 to 24 years</th>\n",
       "      <td>97753.918281</td>\n",
       "    </tr>\n",
       "    <tr>\n",
       "      <th>25 to 29 years</th>\n",
       "      <td>95590.968606</td>\n",
       "    </tr>\n",
       "    <tr>\n",
       "      <th>30 to 34 years</th>\n",
       "      <td>101461.205249</td>\n",
       "    </tr>\n",
       "    <tr>\n",
       "      <th>35 to 39 years</th>\n",
       "      <td>97302.024130</td>\n",
       "    </tr>\n",
       "    <tr>\n",
       "      <th>40 to 44 years</th>\n",
       "      <td>93489.441436</td>\n",
       "    </tr>\n",
       "    <tr>\n",
       "      <th>45 to 49 years</th>\n",
       "      <td>85715.107107</td>\n",
       "    </tr>\n",
       "    <tr>\n",
       "      <th>50 to 54 years</th>\n",
       "      <td>89786.541790</td>\n",
       "    </tr>\n",
       "    <tr>\n",
       "      <th>55 to 59 years</th>\n",
       "      <td>89413.619432</td>\n",
       "    </tr>\n",
       "    <tr>\n",
       "      <th>60 to 64 years</th>\n",
       "      <td>92164.470236</td>\n",
       "    </tr>\n",
       "    <tr>\n",
       "      <th>65 to 69 years</th>\n",
       "      <td>80801.306628</td>\n",
       "    </tr>\n",
       "    <tr>\n",
       "      <th>70 to 74 years</th>\n",
       "      <td>68437.833637</td>\n",
       "    </tr>\n",
       "    <tr>\n",
       "      <th>75 to 79 years</th>\n",
       "      <td>47606.829463</td>\n",
       "    </tr>\n",
       "    <tr>\n",
       "      <th>80 to 84 years</th>\n",
       "      <td>30579.633339</td>\n",
       "    </tr>\n",
       "    <tr>\n",
       "      <th>85 years and over</th>\n",
       "      <td>26530.135265</td>\n",
       "    </tr>\n",
       "  </tbody>\n",
       "</table>\n",
       "</div>"
      ],
      "text/plain": [
       "                              Count\n",
       "Age                                \n",
       "   Under 5 years       81046.996652\n",
       "   5 to 9 years        87434.937275\n",
       "   10 to 14 years      90808.787782\n",
       "   15 to 19 years      94665.243694\n",
       "   20 to 24 years      97753.918281\n",
       "   25 to 29 years      95590.968606\n",
       "   30 to 34 years     101461.205249\n",
       "   35 to 39 years      97302.024130\n",
       "   40 to 44 years      93489.441436\n",
       "   45 to 49 years      85715.107107\n",
       "   50 to 54 years      89786.541790\n",
       "   55 to 59 years      89413.619432\n",
       "   60 to 64 years      92164.470236\n",
       "   65 to 69 years      80801.306628\n",
       "   70 to 74 years      68437.833637\n",
       "   75 to 79 years      47606.829463\n",
       "   80 to 84 years      30579.633339\n",
       "   85 years and over   26530.135265"
      ]
     },
     "execution_count": 83,
     "metadata": {},
     "output_type": "execute_result"
    }
   ],
   "source": [
    "expected"
   ]
  },
  {
   "cell_type": "code",
   "execution_count": 84,
   "metadata": {},
   "outputs": [
    {
     "data": {
      "text/plain": [
       "Power_divergenceResult(statistic=array([12476.21156936]), pvalue=array([0.]))"
      ]
     },
     "execution_count": 84,
     "metadata": {},
     "output_type": "execute_result"
    }
   ],
   "source": [
    "# Calcualting chi-square and pvalue\n",
    "\n",
    "results = stats.chisquare(f_obs = observed, # observed counts\n",
    "                f_exp = expected) # expected counts\n",
    "\n",
    "results"
   ]
  },
  {
   "cell_type": "code",
   "execution_count": 85,
   "metadata": {},
   "outputs": [
    {
     "name": "stdout",
     "output_type": "stream",
     "text": [
      "Chi Square Statistic\n",
      "[12476.21156936]\n"
     ]
    }
   ],
   "source": [
    "print('Chi Square Statistic')\n",
    "print(results.statistic)"
   ]
  },
  {
   "cell_type": "code",
   "execution_count": 86,
   "metadata": {},
   "outputs": [
    {
     "name": "stdout",
     "output_type": "stream",
     "text": [
      "P-value\n",
      "[0.]\n"
     ]
    }
   ],
   "source": [
    "print('P-value')\n",
    "print(results.pvalue)"
   ]
  },
  {
   "cell_type": "code",
   "execution_count": 87,
   "metadata": {},
   "outputs": [
    {
     "name": "stdout",
     "output_type": "stream",
     "text": [
      "Critical Value\n",
      "27.58711163827534\n"
     ]
    }
   ],
   "source": [
    "# Getting critical value\n",
    "\n",
    "crit = stats.chi2.ppf(q = 0.95, # critical value for 95% confidence level\n",
    "                      df = len(df.index) - 1)\n",
    "\n",
    "print('Critical Value')\n",
    "print(crit)"
   ]
  },
  {
   "cell_type": "code",
   "execution_count": 88,
   "metadata": {},
   "outputs": [
    {
     "name": "stdout",
     "output_type": "stream",
     "text": [
      "Chi Square Statistic: [12476.21156936]\n",
      "Critcal Value: 27.58711163827534\n",
      "P-Value: [0.]\n"
     ]
    }
   ],
   "source": [
    "print('Chi Square Statistic:', results.statistic)\n",
    "print('Critcal Value:', crit)\n",
    "print('P-Value:', results.pvalue)"
   ]
  },
  {
   "cell_type": "markdown",
   "metadata": {},
   "source": [
    "With a p-value of practically 0, a chi square statistic of 12,476.21 heavily surpassing the critical value of 27.59, we can reject the null hypothesis with a 95% confidence level."
   ]
  },
  {
   "cell_type": "markdown",
   "metadata": {},
   "source": [
    "We can conclude that the age distribution in Hawaii is different than in the United States with a 95% confidence level."
   ]
  }
 ],
 "metadata": {
  "kernelspec": {
   "display_name": "Python 3",
   "language": "python",
   "name": "python3"
  },
  "language_info": {
   "codemirror_mode": {
    "name": "ipython",
    "version": 3
   },
   "file_extension": ".py",
   "mimetype": "text/x-python",
   "name": "python",
   "nbconvert_exporter": "python",
   "pygments_lexer": "ipython3",
   "version": "3.11.4"
  }
 },
 "nbformat": 4,
 "nbformat_minor": 2
}
